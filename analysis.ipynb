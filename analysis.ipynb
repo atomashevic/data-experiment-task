{
 "cells": [
  {
   "cell_type": "markdown",
   "metadata": {},
   "source": [
    "## Notebook setup"
   ]
  },
  {
   "cell_type": "markdown",
   "metadata": {},
   "source": [
    "First, install libraries listed in `requirements.txt` and then load them."
   ]
  },
  {
   "cell_type": "code",
   "execution_count": null,
   "metadata": {},
   "outputs": [],
   "source": [
    "!pip3 install -r requirements.txt"
   ]
  },
  {
   "cell_type": "code",
   "execution_count": 1,
   "metadata": {},
   "outputs": [],
   "source": [
    "# basics\n",
    "import numpy as np\n",
    "import pandas as pd\n",
    "import matplotlib.pyplot as plt\n",
    "\n",
    "# statsmodels only for running supplementary regressions\n",
    "import statsmodels.api as sm\n",
    "import statsmodels.formula.api as smf\n",
    "\n",
    "# for country -> continent/region conversion\n",
    "from pycountry_convert import country_alpha2_to_continent_code, country_name_to_country_alpha2\n",
    "\n",
    "# sklearn for classification model, metrics, and preprocessing\n",
    "from sklearn.preprocessing import StandardScaler\n",
    "from sklearn.model_selection import train_test_split\n",
    "from sklearn.linear_model import LogisticRegression\n",
    "from sklearn.preprocessing import OneHotEncoder\n",
    "from sklearn.metrics import accuracy_score, f1_score, confusion_matrix, roc_auc_score, roc_curve, precision_score, ConfusionMatrixDisplay, RocCurveDisplay, PrecisionRecallDisplay\n",
    "\n",
    "# ibmlearn for SMOTE oversampling\n",
    "from imblearn.over_sampling import SMOTE"
   ]
  },
  {
   "cell_type": "markdown",
   "metadata": {},
   "source": [
    "## Helper functions"
   ]
  },
  {
   "cell_type": "markdown",
   "metadata": {},
   "source": [
    "We need helper functions for recoding country/state variables.\n",
    "\n",
    "- `get_continent` returns the continent of a country: Europe (`EU`), Asia (`AS`), Africa (`AF`), North America (`NA`), South America (`SA`), Oceania (`OC`).\n",
    "\n",
    "We will also need an array of US states to check whether an accunt is US-based or not."
   ]
  },
  {
   "cell_type": "code",
   "execution_count": 2,
   "metadata": {},
   "outputs": [],
   "source": [
    "def get_continent(location):\n",
    "    if pd.isna(location):\n",
    "        return \"Unknown\"\n",
    "    if location == \"Bosnia & Herzegovina\":\n",
    "        return \"EU\"\n",
    "    if location == \"Caribbean Netherlands\":\n",
    "        return \"SA\"\n",
    "    else:\n",
    "        try:\n",
    "            # Get the country code from the location\n",
    "            country_code = country_name_to_country_alpha2(location)\n",
    "\n",
    "            # Get the continent code from the country code\n",
    "            continent_code = country_alpha2_to_continent_code(country_code)\n",
    "\n",
    "            return continent_code\n",
    "        except ValueError:\n",
    "            return \"Unknown\""
   ]
  },
  {
   "cell_type": "code",
   "execution_count": 3,
   "metadata": {},
   "outputs": [],
   "source": [
    "us_states = [\"Alabama\", \"Alaska\", \"Arizona\", \"Arkansas\", \"California\", \"Colorado\", \"Connecticut\", \"Delaware\", \"Florida\",\n",
    "                 \"Georgia\", \"Hawaii\", \"Idaho\", \"Illinois\", \"Indiana\", \"Iowa\", \"Kansas\", \"Kentucky\", \"Louisiana\", \"Maine\",\n",
    "                 \"Maryland\", \"Massachusetts\", \"Michigan\", \"Minnesota\", \"Mississippi\", \"Missouri\", \"Montana\", \"Nebraska\",\n",
    "                 \"Nevada\", \"New Hampshire\", \"New Jersey\", \"New Mexico\", \"New York\", \"North Carolina\", \"North Dakota\", \"Ohio\",\n",
    "                 \"Oklahoma\", \"Oregon\", \"Pennsylvania\", \"Rhode Island\", \"South Carolina\", \"South Dakota\", \"Tennessee\", \"Texas\",\n",
    "                 \"Utah\", \"Vermont\", \"Virginia\", \"Washington\", \"West Virginia\", \"Wisconsin\", \"Wyoming\", \"District of Columbia\"]"
   ]
  },
  {
   "cell_type": "markdown",
   "metadata": {},
   "source": [
    "## Import data\n",
    "\n",
    "Entire dataset is contained within one CSV file: `task_data_churned.csv`."
   ]
  },
  {
   "cell_type": "code",
   "execution_count": 4,
   "metadata": {},
   "outputs": [],
   "source": [
    "data = pd.read_csv('task_data_churned.csv')"
   ]
  },
  {
   "cell_type": "markdown",
   "metadata": {},
   "source": [
    "## Making sense of the data"
   ]
  },
  {
   "cell_type": "markdown",
   "metadata": {},
   "source": [
    "CSV file stores information about 2502 accounts.\n",
    "\n",
    "- `ws` variable show info about user activity in the workspace\n",
    "- `action` variables record the number of specific actions recorded in the account workspace"
   ]
  },
  {
   "cell_type": "code",
   "execution_count": 5,
   "metadata": {},
   "outputs": [
    {
     "data": {
      "text/html": [
       "<div>\n",
       "<style scoped>\n",
       "    .dataframe tbody tr th:only-of-type {\n",
       "        vertical-align: middle;\n",
       "    }\n",
       "\n",
       "    .dataframe tbody tr th {\n",
       "        vertical-align: top;\n",
       "    }\n",
       "\n",
       "    .dataframe thead th {\n",
       "        text-align: right;\n",
       "    }\n",
       "</style>\n",
       "<table border=\"1\" class=\"dataframe\">\n",
       "  <thead>\n",
       "    <tr style=\"text-align: right;\">\n",
       "      <th></th>\n",
       "      <th>ws_users_activated</th>\n",
       "      <th>ws_users_deactivated</th>\n",
       "      <th>ws_users_invited</th>\n",
       "      <th>action_create_project</th>\n",
       "      <th>action_export_report</th>\n",
       "      <th>action_api_and_webhooks</th>\n",
       "      <th>action_time_entries_via_tracker</th>\n",
       "      <th>action_start_trial</th>\n",
       "      <th>action_import_csv</th>\n",
       "      <th>action_create_invoice</th>\n",
       "      <th>action_lock_entries</th>\n",
       "      <th>action_add_targets</th>\n",
       "      <th>action_connect_quickbooks</th>\n",
       "      <th>action_create_expense</th>\n",
       "      <th>action_project_budget</th>\n",
       "    </tr>\n",
       "  </thead>\n",
       "  <tbody>\n",
       "    <tr>\n",
       "      <th>count</th>\n",
       "      <td>2502.000000</td>\n",
       "      <td>2502.000000</td>\n",
       "      <td>2502.000000</td>\n",
       "      <td>2502.000000</td>\n",
       "      <td>2502.000000</td>\n",
       "      <td>2502.000000</td>\n",
       "      <td>2502.000000</td>\n",
       "      <td>2502.000000</td>\n",
       "      <td>2502.000000</td>\n",
       "      <td>2502.000000</td>\n",
       "      <td>2502.000000</td>\n",
       "      <td>2502.000000</td>\n",
       "      <td>2502.000000</td>\n",
       "      <td>2502.000000</td>\n",
       "      <td>2502.000000</td>\n",
       "    </tr>\n",
       "    <tr>\n",
       "      <th>mean</th>\n",
       "      <td>5.619504</td>\n",
       "      <td>0.827738</td>\n",
       "      <td>0.158273</td>\n",
       "      <td>28.043965</td>\n",
       "      <td>22.709432</td>\n",
       "      <td>0.383293</td>\n",
       "      <td>19.479616</td>\n",
       "      <td>0.175859</td>\n",
       "      <td>0.622702</td>\n",
       "      <td>8.494005</td>\n",
       "      <td>1.634293</td>\n",
       "      <td>0.290568</td>\n",
       "      <td>0.081934</td>\n",
       "      <td>10.019185</td>\n",
       "      <td>10.459233</td>\n",
       "    </tr>\n",
       "    <tr>\n",
       "      <th>std</th>\n",
       "      <td>11.364130</td>\n",
       "      <td>3.527056</td>\n",
       "      <td>0.784527</td>\n",
       "      <td>80.761092</td>\n",
       "      <td>80.884964</td>\n",
       "      <td>3.089846</td>\n",
       "      <td>114.856050</td>\n",
       "      <td>0.380777</td>\n",
       "      <td>4.770705</td>\n",
       "      <td>52.699928</td>\n",
       "      <td>7.180274</td>\n",
       "      <td>1.319093</td>\n",
       "      <td>0.688108</td>\n",
       "      <td>72.849346</td>\n",
       "      <td>37.851112</td>\n",
       "    </tr>\n",
       "    <tr>\n",
       "      <th>min</th>\n",
       "      <td>0.000000</td>\n",
       "      <td>0.000000</td>\n",
       "      <td>0.000000</td>\n",
       "      <td>0.000000</td>\n",
       "      <td>0.000000</td>\n",
       "      <td>0.000000</td>\n",
       "      <td>0.000000</td>\n",
       "      <td>0.000000</td>\n",
       "      <td>0.000000</td>\n",
       "      <td>0.000000</td>\n",
       "      <td>0.000000</td>\n",
       "      <td>0.000000</td>\n",
       "      <td>0.000000</td>\n",
       "      <td>0.000000</td>\n",
       "      <td>0.000000</td>\n",
       "    </tr>\n",
       "    <tr>\n",
       "      <th>25%</th>\n",
       "      <td>1.000000</td>\n",
       "      <td>0.000000</td>\n",
       "      <td>0.000000</td>\n",
       "      <td>2.000000</td>\n",
       "      <td>0.000000</td>\n",
       "      <td>0.000000</td>\n",
       "      <td>0.000000</td>\n",
       "      <td>0.000000</td>\n",
       "      <td>0.000000</td>\n",
       "      <td>0.000000</td>\n",
       "      <td>0.000000</td>\n",
       "      <td>0.000000</td>\n",
       "      <td>0.000000</td>\n",
       "      <td>0.000000</td>\n",
       "      <td>0.000000</td>\n",
       "    </tr>\n",
       "    <tr>\n",
       "      <th>50%</th>\n",
       "      <td>2.000000</td>\n",
       "      <td>0.000000</td>\n",
       "      <td>0.000000</td>\n",
       "      <td>8.000000</td>\n",
       "      <td>1.000000</td>\n",
       "      <td>0.000000</td>\n",
       "      <td>0.000000</td>\n",
       "      <td>0.000000</td>\n",
       "      <td>0.000000</td>\n",
       "      <td>0.000000</td>\n",
       "      <td>0.000000</td>\n",
       "      <td>0.000000</td>\n",
       "      <td>0.000000</td>\n",
       "      <td>0.000000</td>\n",
       "      <td>0.000000</td>\n",
       "    </tr>\n",
       "    <tr>\n",
       "      <th>75%</th>\n",
       "      <td>6.000000</td>\n",
       "      <td>0.000000</td>\n",
       "      <td>0.000000</td>\n",
       "      <td>26.000000</td>\n",
       "      <td>15.000000</td>\n",
       "      <td>0.000000</td>\n",
       "      <td>0.000000</td>\n",
       "      <td>0.000000</td>\n",
       "      <td>0.000000</td>\n",
       "      <td>2.000000</td>\n",
       "      <td>0.000000</td>\n",
       "      <td>0.000000</td>\n",
       "      <td>0.000000</td>\n",
       "      <td>0.000000</td>\n",
       "      <td>4.000000</td>\n",
       "    </tr>\n",
       "    <tr>\n",
       "      <th>max</th>\n",
       "      <td>206.000000</td>\n",
       "      <td>73.000000</td>\n",
       "      <td>20.000000</td>\n",
       "      <td>1923.000000</td>\n",
       "      <td>1740.000000</td>\n",
       "      <td>127.000000</td>\n",
       "      <td>3382.000000</td>\n",
       "      <td>1.000000</td>\n",
       "      <td>120.000000</td>\n",
       "      <td>1405.000000</td>\n",
       "      <td>152.000000</td>\n",
       "      <td>30.000000</td>\n",
       "      <td>27.000000</td>\n",
       "      <td>1785.000000</td>\n",
       "      <td>829.000000</td>\n",
       "    </tr>\n",
       "  </tbody>\n",
       "</table>\n",
       "</div>"
      ],
      "text/plain": [
       "       ws_users_activated  ws_users_deactivated  ws_users_invited  \\\n",
       "count         2502.000000           2502.000000       2502.000000   \n",
       "mean             5.619504              0.827738          0.158273   \n",
       "std             11.364130              3.527056          0.784527   \n",
       "min              0.000000              0.000000          0.000000   \n",
       "25%              1.000000              0.000000          0.000000   \n",
       "50%              2.000000              0.000000          0.000000   \n",
       "75%              6.000000              0.000000          0.000000   \n",
       "max            206.000000             73.000000         20.000000   \n",
       "\n",
       "       action_create_project  action_export_report  action_api_and_webhooks  \\\n",
       "count            2502.000000           2502.000000              2502.000000   \n",
       "mean               28.043965             22.709432                 0.383293   \n",
       "std                80.761092             80.884964                 3.089846   \n",
       "min                 0.000000              0.000000                 0.000000   \n",
       "25%                 2.000000              0.000000                 0.000000   \n",
       "50%                 8.000000              1.000000                 0.000000   \n",
       "75%                26.000000             15.000000                 0.000000   \n",
       "max              1923.000000           1740.000000               127.000000   \n",
       "\n",
       "       action_time_entries_via_tracker  action_start_trial  action_import_csv  \\\n",
       "count                      2502.000000         2502.000000        2502.000000   \n",
       "mean                         19.479616            0.175859           0.622702   \n",
       "std                         114.856050            0.380777           4.770705   \n",
       "min                           0.000000            0.000000           0.000000   \n",
       "25%                           0.000000            0.000000           0.000000   \n",
       "50%                           0.000000            0.000000           0.000000   \n",
       "75%                           0.000000            0.000000           0.000000   \n",
       "max                        3382.000000            1.000000         120.000000   \n",
       "\n",
       "       action_create_invoice  action_lock_entries  action_add_targets  \\\n",
       "count            2502.000000          2502.000000         2502.000000   \n",
       "mean                8.494005             1.634293            0.290568   \n",
       "std                52.699928             7.180274            1.319093   \n",
       "min                 0.000000             0.000000            0.000000   \n",
       "25%                 0.000000             0.000000            0.000000   \n",
       "50%                 0.000000             0.000000            0.000000   \n",
       "75%                 2.000000             0.000000            0.000000   \n",
       "max              1405.000000           152.000000           30.000000   \n",
       "\n",
       "       action_connect_quickbooks  action_create_expense  action_project_budget  \n",
       "count                2502.000000            2502.000000            2502.000000  \n",
       "mean                    0.081934              10.019185              10.459233  \n",
       "std                     0.688108              72.849346              37.851112  \n",
       "min                     0.000000               0.000000               0.000000  \n",
       "25%                     0.000000               0.000000               0.000000  \n",
       "50%                     0.000000               0.000000               0.000000  \n",
       "75%                     0.000000               0.000000               4.000000  \n",
       "max                    27.000000            1785.000000             829.000000  "
      ]
     },
     "execution_count": 5,
     "metadata": {},
     "output_type": "execute_result"
    }
   ],
   "source": [
    "data.iloc[:, :15].describe()"
   ]
  },
  {
   "cell_type": "markdown",
   "metadata": {},
   "source": [
    "Just by looking at differences between 3rd quartile and max values, we can see that there are some outlier accounts with very high number of activated users and recorded actions.\n",
    "\n",
    "When it comes to recorder actions, these can be the result of bug in event recording, non-sensical user behavior, or API misuse by (for example) creating hundreds of empty projects, time entries or invoices."
   ]
  },
  {
   "cell_type": "code",
   "execution_count": 6,
   "metadata": {},
   "outputs": [
    {
     "data": {
      "text/html": [
       "<div>\n",
       "<style scoped>\n",
       "    .dataframe tbody tr th:only-of-type {\n",
       "        vertical-align: middle;\n",
       "    }\n",
       "\n",
       "    .dataframe tbody tr th {\n",
       "        vertical-align: top;\n",
       "    }\n",
       "\n",
       "    .dataframe thead th {\n",
       "        text-align: right;\n",
       "    }\n",
       "</style>\n",
       "<table border=\"1\" class=\"dataframe\">\n",
       "  <thead>\n",
       "    <tr style=\"text-align: right;\">\n",
       "      <th></th>\n",
       "      <th>action_gps_tracking</th>\n",
       "      <th>action_screenshots</th>\n",
       "      <th>action_create_custom_field</th>\n",
       "      <th>value_days_to_purchase</th>\n",
       "      <th>value_number_of_active_months</th>\n",
       "      <th>value_transactions_number</th>\n",
       "      <th>value_regular_seats</th>\n",
       "      <th>value_kiosk_seats</th>\n",
       "      <th>revenue</th>\n",
       "    </tr>\n",
       "  </thead>\n",
       "  <tbody>\n",
       "    <tr>\n",
       "      <th>count</th>\n",
       "      <td>876.000000</td>\n",
       "      <td>1044.000000</td>\n",
       "      <td>443.000000</td>\n",
       "      <td>2502.000000</td>\n",
       "      <td>2502.000000</td>\n",
       "      <td>2502.000000</td>\n",
       "      <td>2502.000000</td>\n",
       "      <td>2502.000000</td>\n",
       "      <td>2502.000000</td>\n",
       "    </tr>\n",
       "    <tr>\n",
       "      <th>mean</th>\n",
       "      <td>1.371005</td>\n",
       "      <td>1.417625</td>\n",
       "      <td>7.246050</td>\n",
       "      <td>61.286571</td>\n",
       "      <td>4.215827</td>\n",
       "      <td>5.728617</td>\n",
       "      <td>6.067946</td>\n",
       "      <td>0.257794</td>\n",
       "      <td>378.331825</td>\n",
       "    </tr>\n",
       "    <tr>\n",
       "      <th>std</th>\n",
       "      <td>0.726969</td>\n",
       "      <td>0.791806</td>\n",
       "      <td>11.577418</td>\n",
       "      <td>85.179584</td>\n",
       "      <td>3.691711</td>\n",
       "      <td>4.893211</td>\n",
       "      <td>11.766325</td>\n",
       "      <td>2.957970</td>\n",
       "      <td>1007.971191</td>\n",
       "    </tr>\n",
       "    <tr>\n",
       "      <th>min</th>\n",
       "      <td>1.000000</td>\n",
       "      <td>1.000000</td>\n",
       "      <td>1.000000</td>\n",
       "      <td>0.000000</td>\n",
       "      <td>0.000000</td>\n",
       "      <td>0.000000</td>\n",
       "      <td>1.000000</td>\n",
       "      <td>0.000000</td>\n",
       "      <td>0.000000</td>\n",
       "    </tr>\n",
       "    <tr>\n",
       "      <th>25%</th>\n",
       "      <td>1.000000</td>\n",
       "      <td>1.000000</td>\n",
       "      <td>2.000000</td>\n",
       "      <td>1.000000</td>\n",
       "      <td>1.000000</td>\n",
       "      <td>2.000000</td>\n",
       "      <td>1.000000</td>\n",
       "      <td>0.000000</td>\n",
       "      <td>38.961000</td>\n",
       "    </tr>\n",
       "    <tr>\n",
       "      <th>50%</th>\n",
       "      <td>1.000000</td>\n",
       "      <td>1.000000</td>\n",
       "      <td>4.000000</td>\n",
       "      <td>24.000000</td>\n",
       "      <td>3.000000</td>\n",
       "      <td>4.000000</td>\n",
       "      <td>2.000000</td>\n",
       "      <td>0.000000</td>\n",
       "      <td>105.761500</td>\n",
       "    </tr>\n",
       "    <tr>\n",
       "      <th>75%</th>\n",
       "      <td>2.000000</td>\n",
       "      <td>2.000000</td>\n",
       "      <td>7.000000</td>\n",
       "      <td>84.750000</td>\n",
       "      <td>7.000000</td>\n",
       "      <td>8.000000</td>\n",
       "      <td>6.000000</td>\n",
       "      <td>0.000000</td>\n",
       "      <td>333.459750</td>\n",
       "    </tr>\n",
       "    <tr>\n",
       "      <th>max</th>\n",
       "      <td>8.000000</td>\n",
       "      <td>11.000000</td>\n",
       "      <td>106.000000</td>\n",
       "      <td>420.000000</td>\n",
       "      <td>14.000000</td>\n",
       "      <td>90.000000</td>\n",
       "      <td>215.000000</td>\n",
       "      <td>117.000000</td>\n",
       "      <td>27235.156000</td>\n",
       "    </tr>\n",
       "  </tbody>\n",
       "</table>\n",
       "</div>"
      ],
      "text/plain": [
       "       action_gps_tracking  action_screenshots  action_create_custom_field  \\\n",
       "count           876.000000         1044.000000                  443.000000   \n",
       "mean              1.371005            1.417625                    7.246050   \n",
       "std               0.726969            0.791806                   11.577418   \n",
       "min               1.000000            1.000000                    1.000000   \n",
       "25%               1.000000            1.000000                    2.000000   \n",
       "50%               1.000000            1.000000                    4.000000   \n",
       "75%               2.000000            2.000000                    7.000000   \n",
       "max               8.000000           11.000000                  106.000000   \n",
       "\n",
       "       value_days_to_purchase  value_number_of_active_months  \\\n",
       "count             2502.000000                    2502.000000   \n",
       "mean                61.286571                       4.215827   \n",
       "std                 85.179584                       3.691711   \n",
       "min                  0.000000                       0.000000   \n",
       "25%                  1.000000                       1.000000   \n",
       "50%                 24.000000                       3.000000   \n",
       "75%                 84.750000                       7.000000   \n",
       "max                420.000000                      14.000000   \n",
       "\n",
       "       value_transactions_number  value_regular_seats  value_kiosk_seats  \\\n",
       "count                2502.000000          2502.000000        2502.000000   \n",
       "mean                    5.728617             6.067946           0.257794   \n",
       "std                     4.893211            11.766325           2.957970   \n",
       "min                     0.000000             1.000000           0.000000   \n",
       "25%                     2.000000             1.000000           0.000000   \n",
       "50%                     4.000000             2.000000           0.000000   \n",
       "75%                     8.000000             6.000000           0.000000   \n",
       "max                    90.000000           215.000000         117.000000   \n",
       "\n",
       "            revenue  \n",
       "count   2502.000000  \n",
       "mean     378.331825  \n",
       "std     1007.971191  \n",
       "min        0.000000  \n",
       "25%       38.961000  \n",
       "50%      105.761500  \n",
       "75%      333.459750  \n",
       "max    27235.156000  "
      ]
     },
     "execution_count": 6,
     "metadata": {},
     "output_type": "execute_result"
    }
   ],
   "source": [
    "data.iloc[:, 15:26].describe()"
   ]
  },
  {
   "cell_type": "markdown",
   "metadata": {},
   "source": [
    "We have missing data for several features: `gps_tracking`, `action_screenshots`, `action_create_custom_field`.\n",
    "\n",
    "GPS tracking and action screenshots were added in [December 2020 update](https://clockify.me/help/whats-new) of Clockify. Custom fields were added in February 2020. However, we have the most missing data for Custom fields so it doesn't make sense that they are missing because the data was collected before the update.\n",
    "\n",
    "These features are also part of the Clockify [PRO plan](https://clockify.me/pricing). It makes sense to assume that where we have all 3 features missing, the account was on the Basic/Standard plan (or Free plan for some % of time) at the time of data collection.\n",
    "\n",
    "We will use info from these three variables to create dummy variable `pro` which indicates whether the account was on the PRO plan at some point during data collection.\n",
    "\n",
    "Final group of variables is`value` related to number of transactions, active months and total revenue generated by the account."
   ]
  },
  {
   "cell_type": "code",
   "execution_count": 7,
   "metadata": {},
   "outputs": [
    {
     "data": {
      "text/plain": [
       "country\n",
       "Australia         156\n",
       "Canada            146\n",
       "Florida           125\n",
       "United Kingdom    112\n",
       "Germany            90\n",
       "Arizona            68\n",
       "Brazil             58\n",
       "France             54\n",
       "Alabama            54\n",
       "Colorado           53\n",
       "Illinois           53\n",
       "Georgia            50\n",
       "Texas              49\n",
       "South Africa       40\n",
       "Name: count, dtype: int64"
      ]
     },
     "execution_count": 7,
     "metadata": {},
     "output_type": "execute_result"
    }
   ],
   "source": [
    "data['country'].value_counts()[1:15]"
   ]
  },
  {
   "cell_type": "markdown",
   "metadata": {},
   "source": [
    "`country` variable is a categorical variable with mix of country names all over the world and US states. To reduce the number of categories, we will group US states into one category \"US\" and all other countries into \"Non-US\" category.\n",
    "\n",
    "To differentiate between different parts of the world we will also differentiate between global regions: North America (NA), Europe (EU) and Rest of the world (ROW)."
   ]
  },
  {
   "cell_type": "code",
   "execution_count": 8,
   "metadata": {},
   "outputs": [
    {
     "data": {
      "image/png": "[encoded data removed]",
      "text/plain": [
       "<Figure size 640x480 with 1 Axes>"
      ]
     },
     "metadata": {},
     "output_type": "display_data"
    }
   ],
   "source": [
    "chruned_counts = data['churned_status'].value_counts()\n",
    "chruned_counts.plot(kind='bar', color = ['blue', 'red'])\n",
    "plt.title('Churned Status')\n",
    "plt.xlabel('Churned Status')\n",
    "plt.ylabel('Count')\n",
    "plt.show()\n"
   ]
  },
  {
   "cell_type": "markdown",
   "metadata": {},
   "source": [
    "`churned_status` is our target variable. Its binary and highly imbalanced, we have 2x times as many active as churned accounts."
   ]
  },
  {
   "cell_type": "markdown",
   "metadata": {},
   "source": [
    "## Data pre-processing"
   ]
  },
  {
   "cell_type": "markdown",
   "metadata": {},
   "source": [
    "### Pro accounts"
   ]
  },
  {
   "cell_type": "markdown",
   "metadata": {},
   "source": [
    "We will add new feature: `pro` which indicates whether the account was on the PRO plan at some point during data collection."
   ]
  },
  {
   "cell_type": "code",
   "execution_count": 9,
   "metadata": {},
   "outputs": [],
   "source": [
    "# pro = 1 if any of the PRO-plan actions are not null\n",
    "# pro = 0 if all 3 PRO-plan actions are null\n",
    "data['pro'] = np.where(data['action_gps_tracking'].isnull() & data['action_screenshots'].isnull() & data['action_create_custom_field'].isnull(), 0, 1)"
   ]
  },
  {
   "cell_type": "code",
   "execution_count": 10,
   "metadata": {},
   "outputs": [
    {
     "data": {
      "image/png": "[encoded data removed]",
      "text/plain": [
       "<Figure size 640x480 with 1 Axes>"
      ]
     },
     "metadata": {},
     "output_type": "display_data"
    }
   ],
   "source": [
    "pro_counts = data['pro'].value_counts()\n",
    "pro_counts.plot(kind='bar', color='skyblue')\n",
    "plt.xlabel('Pro account')\n",
    "plt.ylabel('Count')\n",
    "plt.title('Number of Pro accounts')\n",
    "plt.show()"
   ]
  },
  {
   "cell_type": "markdown",
   "metadata": {},
   "source": [
    "Majority of acccounts have been on the PRO plan at some point during data collection.\n",
    "\n",
    "To test whether `pro` variable makes sense, we can run a quick linear regression to predict `revenue` based on the number of transcations made and `pro` variable.\n",
    "\n",
    "If `pro` variable is significant, it means that it signifies higher revenue per transaction -- higher subscription price."
   ]
  },
  {
   "cell_type": "code",
   "execution_count": 11,
   "metadata": {},
   "outputs": [
    {
     "data": {
      "text/html": [
       "<table class=\"simpletable\">\n",
       "<caption>OLS Regression Results</caption>\n",
       "<tr>\n",
       "  <th>Dep. Variable:</th>         <td>revenue</td>     <th>  R-squared:         </th> <td>   0.403</td> \n",
       "</tr>\n",
       "<tr>\n",
       "  <th>Model:</th>                   <td>OLS</td>       <th>  Adj. R-squared:    </th> <td>   0.403</td> \n",
       "</tr>\n",
       "<tr>\n",
       "  <th>Method:</th>             <td>Least Squares</td>  <th>  F-statistic:       </th> <td>   844.3</td> \n",
       "</tr>\n",
       "<tr>\n",
       "  <th>Date:</th>             <td>Fri, 26 Jan 2024</td> <th>  Prob (F-statistic):</th> <td>7.34e-281</td>\n",
       "</tr>\n",
       "<tr>\n",
       "  <th>Time:</th>                 <td>15:48:27</td>     <th>  Log-Likelihood:    </th> <td> -20207.</td> \n",
       "</tr>\n",
       "<tr>\n",
       "  <th>No. Observations:</th>      <td>  2502</td>      <th>  AIC:               </th> <td>4.042e+04</td>\n",
       "</tr>\n",
       "<tr>\n",
       "  <th>Df Residuals:</th>          <td>  2499</td>      <th>  BIC:               </th> <td>4.044e+04</td>\n",
       "</tr>\n",
       "<tr>\n",
       "  <th>Df Model:</th>              <td>     2</td>      <th>                     </th>     <td> </td>    \n",
       "</tr>\n",
       "<tr>\n",
       "  <th>Covariance Type:</th>      <td>nonrobust</td>    <th>                     </th>     <td> </td>    \n",
       "</tr>\n",
       "</table>\n",
       "<table class=\"simpletable\">\n",
       "<tr>\n",
       "              <td></td>                 <th>coef</th>     <th>std err</th>      <th>t</th>      <th>P>|t|</th>  <th>[0.025</th>    <th>0.975]</th>  \n",
       "</tr>\n",
       "<tr>\n",
       "  <th>Intercept</th>                 <td> -465.1670</td> <td>   30.182</td> <td>  -15.412</td> <td> 0.000</td> <td> -524.352</td> <td> -405.982</td>\n",
       "</tr>\n",
       "<tr>\n",
       "  <th>value_transactions_number</th> <td>  129.1965</td> <td>    3.184</td> <td>   40.574</td> <td> 0.000</td> <td>  122.952</td> <td>  135.440</td>\n",
       "</tr>\n",
       "<tr>\n",
       "  <th>pro</th>                       <td>  174.5353</td> <td>   31.701</td> <td>    5.506</td> <td> 0.000</td> <td>  112.372</td> <td>  236.698</td>\n",
       "</tr>\n",
       "</table>\n",
       "<table class=\"simpletable\">\n",
       "<tr>\n",
       "  <th>Omnibus:</th>       <td>4522.950</td> <th>  Durbin-Watson:     </th>   <td>   1.939</td>  \n",
       "</tr>\n",
       "<tr>\n",
       "  <th>Prob(Omnibus):</th>  <td> 0.000</td>  <th>  Jarque-Bera (JB):  </th> <td>10308746.506</td>\n",
       "</tr>\n",
       "<tr>\n",
       "  <th>Skew:</th>           <td>12.613</td>  <th>  Prob(JB):          </th>   <td>    0.00</td>  \n",
       "</tr>\n",
       "<tr>\n",
       "  <th>Kurtosis:</th>       <td>316.446</td> <th>  Cond. No.          </th>   <td>    19.1</td>  \n",
       "</tr>\n",
       "</table><br/><br/>Notes:<br/>[1] Standard Errors assume that the covariance matrix of the errors is correctly specified."
      ],
      "text/latex": [
       "\\begin{center}\n",
       "\\begin{tabular}{lclc}\n",
       "\\toprule\n",
       "\\textbf{Dep. Variable:}              &     revenue      & \\textbf{  R-squared:         } &      0.403    \\\\\n",
       "\\textbf{Model:}                      &       OLS        & \\textbf{  Adj. R-squared:    } &      0.403    \\\\\n",
       "\\textbf{Method:}                     &  Least Squares   & \\textbf{  F-statistic:       } &      844.3    \\\\\n",
       "\\textbf{Date:}                       & Fri, 26 Jan 2024 & \\textbf{  Prob (F-statistic):} &  7.34e-281    \\\\\n",
       "\\textbf{Time:}                       &     15:48:27     & \\textbf{  Log-Likelihood:    } &    -20207.    \\\\\n",
       "\\textbf{No. Observations:}           &        2502      & \\textbf{  AIC:               } &  4.042e+04    \\\\\n",
       "\\textbf{Df Residuals:}               &        2499      & \\textbf{  BIC:               } &  4.044e+04    \\\\\n",
       "\\textbf{Df Model:}                   &           2      & \\textbf{                     } &               \\\\\n",
       "\\textbf{Covariance Type:}            &    nonrobust     & \\textbf{                     } &               \\\\\n",
       "\\bottomrule\n",
       "\\end{tabular}\n",
       "\\begin{tabular}{lcccccc}\n",
       "                                     & \\textbf{coef} & \\textbf{std err} & \\textbf{t} & \\textbf{P$> |$t$|$} & \\textbf{[0.025} & \\textbf{0.975]}  \\\\\n",
       "\\midrule\n",
       "\\textbf{Intercept}                   &    -465.1670  &       30.182     &   -15.412  &         0.000        &     -524.352    &     -405.982     \\\\\n",
       "\\textbf{value\\_transactions\\_number} &     129.1965  &        3.184     &    40.574  &         0.000        &      122.952    &      135.440     \\\\\n",
       "\\textbf{pro}                         &     174.5353  &       31.701     &     5.506  &         0.000        &      112.372    &      236.698     \\\\\n",
       "\\bottomrule\n",
       "\\end{tabular}\n",
       "\\begin{tabular}{lclc}\n",
       "\\textbf{Omnibus:}       & 4522.950 & \\textbf{  Durbin-Watson:     } &      1.939    \\\\\n",
       "\\textbf{Prob(Omnibus):} &   0.000  & \\textbf{  Jarque-Bera (JB):  } & 10308746.506  \\\\\n",
       "\\textbf{Skew:}          &  12.613  & \\textbf{  Prob(JB):          } &       0.00    \\\\\n",
       "\\textbf{Kurtosis:}      & 316.446  & \\textbf{  Cond. No.          } &       19.1    \\\\\n",
       "\\bottomrule\n",
       "\\end{tabular}\n",
       "%\\caption{OLS Regression Results}\n",
       "\\end{center}\n",
       "\n",
       "Notes: \\newline\n",
       " [1] Standard Errors assume that the covariance matrix of the errors is correctly specified."
      ],
      "text/plain": [
       "<class 'statsmodels.iolib.summary.Summary'>\n",
       "\"\"\"\n",
       "                            OLS Regression Results                            \n",
       "==============================================================================\n",
       "Dep. Variable:                revenue   R-squared:                       0.403\n",
       "Model:                            OLS   Adj. R-squared:                  0.403\n",
       "Method:                 Least Squares   F-statistic:                     844.3\n",
       "Date:                Fri, 26 Jan 2024   Prob (F-statistic):          7.34e-281\n",
       "Time:                        15:48:27   Log-Likelihood:                -20207.\n",
       "No. Observations:                2502   AIC:                         4.042e+04\n",
       "Df Residuals:                    2499   BIC:                         4.044e+04\n",
       "Df Model:                           2                                         \n",
       "Covariance Type:            nonrobust                                         \n",
       "=============================================================================================\n",
       "                                coef    std err          t      P>|t|      [0.025      0.975]\n",
       "---------------------------------------------------------------------------------------------\n",
       "Intercept                  -465.1670     30.182    -15.412      0.000    -524.352    -405.982\n",
       "value_transactions_number   129.1965      3.184     40.574      0.000     122.952     135.440\n",
       "pro                         174.5353     31.701      5.506      0.000     112.372     236.698\n",
       "==============================================================================\n",
       "Omnibus:                     4522.950   Durbin-Watson:                   1.939\n",
       "Prob(Omnibus):                  0.000   Jarque-Bera (JB):         10308746.506\n",
       "Skew:                          12.613   Prob(JB):                         0.00\n",
       "Kurtosis:                     316.446   Cond. No.                         19.1\n",
       "==============================================================================\n",
       "\n",
       "Notes:\n",
       "[1] Standard Errors assume that the covariance matrix of the errors is correctly specified.\n",
       "\"\"\""
      ]
     },
     "execution_count": 11,
     "metadata": {},
     "output_type": "execute_result"
    }
   ],
   "source": [
    "model = smf.ols('revenue ~ value_transactions_number + pro', data=data).fit()\n",
    "\n",
    "model.summary()"
   ]
  },
  {
   "cell_type": "markdown",
   "metadata": {},
   "source": [
    "`pro` is a significant predictor of `revenue` so we will include in the classification model."
   ]
  },
  {
   "cell_type": "markdown",
   "metadata": {},
   "source": [
    "###  Country recoding\n"
   ]
  },
  {
   "cell_type": "markdown",
   "metadata": {},
   "source": [
    "We first recode us-states to \"US\" and then classify countries according to their continent and then merge continents into regions"
   ]
  },
  {
   "cell_type": "code",
   "execution_count": 13,
   "metadata": {},
   "outputs": [],
   "source": [
    "data['countries2'] = data['country']\n",
    "data.loc[data['countries2'].isin(us_states), 'countries2'] = 'USA'\n",
    "data['continent'] = data['countries2'].apply(get_continent)"
   ]
  },
  {
   "cell_type": "code",
   "execution_count": 14,
   "metadata": {},
   "outputs": [
    {
     "data": {
      "image/png": "[encoded data removed]",
      "text/plain": [
       "<Figure size 640x480 with 1 Axes>"
      ]
     },
     "metadata": {},
     "output_type": "display_data"
    }
   ],
   "source": [
    "continent_counts = data['continent'].value_counts()\n",
    "continent_counts.plot(kind='bar')\n",
    "plt.xlabel('Continent')\n",
    "plt.ylabel('Count')\n",
    "plt.title('Continent Counts')\n",
    "plt.show()"
   ]
  },
  {
   "cell_type": "markdown",
   "metadata": {},
   "source": [
    "Majority of users are from North America, then EU and we merge others into \"Rest of the world\" category."
   ]
  },
  {
   "cell_type": "code",
   "execution_count": 15,
   "metadata": {},
   "outputs": [],
   "source": [
    "data['region'] = data['continent']\n",
    "data.loc[data['region'].isin(['OC', 'AS', 'SA', 'Unknown', 'AF']), 'region'] = 'ROW'"
   ]
  },
  {
   "cell_type": "code",
   "execution_count": 16,
   "metadata": {},
   "outputs": [
    {
     "data": {
      "image/png": "[encoded data removed]",
      "text/plain": [
       "<Figure size 640x480 with 1 Axes>"
      ]
     },
     "metadata": {},
     "output_type": "display_data"
    }
   ],
   "source": [
    "region_counts = data['region'].value_counts()\n",
    "region_counts.plot(kind='bar')\n",
    "plt.xlabel('Region')\n",
    "plt.ylabel('Count')\n",
    "plt.title('Region Counts')\n",
    "plt.show()"
   ]
  },
  {
   "cell_type": "markdown",
   "metadata": {},
   "source": [
    "This way we have a good balance between categories just three categories. Using NA vs Rest of the World would be ideally balanced, but we would lose information about differences between ROW and EU (purchasing power, language, etc.)."
   ]
  },
  {
   "cell_type": "markdown",
   "metadata": {},
   "source": [
    "Finally, we recode the target to `churned` with value 1 for churned accounts and 0 for active accounts.\n"
   ]
  },
  {
   "cell_type": "code",
   "execution_count": 17,
   "metadata": {},
   "outputs": [],
   "source": [
    "data['churn'] = np.where(data['churned_status'] == 'Yes', 1, 0)"
   ]
  },
  {
   "cell_type": "markdown",
   "metadata": {},
   "source": [
    "## Churn classification"
   ]
  },
  {
   "cell_type": "markdown",
   "metadata": {},
   "source": [
    "We will use logistic regression to predict churned accounts. It's a simple model with good interpretability, convenient feature importance ranking and it's easy to explain to non-technical audience.\n",
    "\n",
    "We need to take several things into consideration.\n",
    "\n",
    "1. Some of the features are clearly correlated, such as revenue ~ value_number_of_active_months OR value_number_of_transactions. We will need to use a smaller subset of features for the model to avoid multicollinearity and inflation of feature importance.\n",
    "2. We have outliers in the activity record of the dataset, which might not represent the \"true\" user activity.\n",
    "3. Scale of the numerical features is different. We will need to scale them to avoid numerical instability.\n",
    "4. We have a highly imbalanced target variable. We need to use minority oversampling in the traning data to avoid overfitting to the majority class."
   ]
  },
  {
   "cell_type": "markdown",
   "metadata": {},
   "source": [
    "First step is to do one-hot encoding of the categorical variables. We encode `region` variable into three dummy variables: `region_eu`, `region_na` and `region_row`."
   ]
  },
  {
   "cell_type": "code",
   "execution_count": 18,
   "metadata": {},
   "outputs": [],
   "source": [
    "encoder = OneHotEncoder()\n",
    "encoded_vars = encoder.fit_transform(data[['region']]).toarray()\n",
    "encoded_vars = pd.DataFrame(encoded_vars, columns = ['region-eu','region-na', 'region-row'])"
   ]
  },
  {
   "cell_type": "markdown",
   "metadata": {},
   "source": [
    "We remove the original categorical variable and add the dummy variables to the dataset. All features are now numerical."
   ]
  },
  {
   "cell_type": "code",
   "execution_count": 19,
   "metadata": {},
   "outputs": [],
   "source": [
    "data_encoded = data.drop(['region'], axis=1)\n",
    "data_encoded = pd.concat([data, encoded_vars], axis=1)"
   ]
  },
  {
   "cell_type": "markdown",
   "metadata": {},
   "source": [
    "To identify the outliers based on the number of users and action variables with large difference between max and 3rd quartile, we will run a simple OLS regression again.\n",
    "\n",
    "We predict revenue based on the number of users and action variables. We will use the residuals of this regression to identify outliers using Cook's distance."
   ]
  },
  {
   "cell_type": "code",
   "execution_count": 20,
   "metadata": {},
   "outputs": [],
   "source": [
    "# OLS regression \n",
    "model = smf.ols('revenue ~ ws_users_activated + action_time_entries_via_tracker + action_create_invoice + action_create_project + action_export_report', data=data_encoded).fit()\n",
    "\n",
    "# Get the influence statistics of observations\n",
    "influence = model.get_influence()\n",
    "\n",
    "# Extract Cook's distance of every observation\n",
    "cooks_d2, pvals = influence.cooks_distance\n",
    "\n",
    "cr = 4 / (len(data_encoded) - 2) # rule of thumb threshold\n",
    "\n",
    "idx_outliers = np.where(cooks_d2 > cr)[0] # index of the outliers\n",
    "\n",
    "# Dataset without outliers\n",
    "data_encoded_out = data_encoded.drop(idx_outliers, axis=0).reset_index(drop=True)\n"
   ]
  },
  {
   "cell_type": "markdown",
   "metadata": {},
   "source": [
    "We remove the outliers from the dataset. Now the max values of action variables are somewhat lower, so we didn't cut out all the outliers, but we removed the most extreme ones.\n",
    "\n",
    "We have 2394 rows left in the dataset, we removed less than 5% of the data.\n"
   ]
  },
  {
   "cell_type": "code",
   "execution_count": 21,
   "metadata": {},
   "outputs": [
    {
     "data": {
      "text/plain": [
       "2394"
      ]
     },
     "execution_count": 21,
     "metadata": {},
     "output_type": "execute_result"
    }
   ],
   "source": [
    "len(data_encoded_out)"
   ]
  },
  {
   "cell_type": "code",
   "execution_count": 22,
   "metadata": {},
   "outputs": [
    {
     "data": {
      "text/html": [
       "<div>\n",
       "<style scoped>\n",
       "    .dataframe tbody tr th:only-of-type {\n",
       "        vertical-align: middle;\n",
       "    }\n",
       "\n",
       "    .dataframe tbody tr th {\n",
       "        vertical-align: top;\n",
       "    }\n",
       "\n",
       "    .dataframe thead th {\n",
       "        text-align: right;\n",
       "    }\n",
       "</style>\n",
       "<table border=\"1\" class=\"dataframe\">\n",
       "  <thead>\n",
       "    <tr style=\"text-align: right;\">\n",
       "      <th></th>\n",
       "      <th>ws_users_activated</th>\n",
       "      <th>ws_users_deactivated</th>\n",
       "      <th>ws_users_invited</th>\n",
       "      <th>action_create_project</th>\n",
       "      <th>action_export_report</th>\n",
       "      <th>action_api_and_webhooks</th>\n",
       "      <th>action_time_entries_via_tracker</th>\n",
       "      <th>action_start_trial</th>\n",
       "      <th>action_import_csv</th>\n",
       "      <th>action_create_invoice</th>\n",
       "      <th>action_lock_entries</th>\n",
       "      <th>action_add_targets</th>\n",
       "      <th>action_connect_quickbooks</th>\n",
       "      <th>action_create_expense</th>\n",
       "    </tr>\n",
       "  </thead>\n",
       "  <tbody>\n",
       "    <tr>\n",
       "      <th>count</th>\n",
       "      <td>2394.000000</td>\n",
       "      <td>2394.000000</td>\n",
       "      <td>2394.000000</td>\n",
       "      <td>2394.000000</td>\n",
       "      <td>2394.000000</td>\n",
       "      <td>2394.000000</td>\n",
       "      <td>2394.000000</td>\n",
       "      <td>2394.000000</td>\n",
       "      <td>2394.000000</td>\n",
       "      <td>2394.000000</td>\n",
       "      <td>2394.000000</td>\n",
       "      <td>2394.000000</td>\n",
       "      <td>2394.000000</td>\n",
       "      <td>2394.000000</td>\n",
       "    </tr>\n",
       "    <tr>\n",
       "      <th>mean</th>\n",
       "      <td>4.126566</td>\n",
       "      <td>0.610276</td>\n",
       "      <td>0.129908</td>\n",
       "      <td>22.147870</td>\n",
       "      <td>15.743108</td>\n",
       "      <td>0.270677</td>\n",
       "      <td>9.720969</td>\n",
       "      <td>0.173768</td>\n",
       "      <td>0.425647</td>\n",
       "      <td>6.332080</td>\n",
       "      <td>1.263158</td>\n",
       "      <td>0.254804</td>\n",
       "      <td>0.076023</td>\n",
       "      <td>8.356307</td>\n",
       "    </tr>\n",
       "    <tr>\n",
       "      <th>std</th>\n",
       "      <td>5.073577</td>\n",
       "      <td>2.173174</td>\n",
       "      <td>0.660699</td>\n",
       "      <td>51.969452</td>\n",
       "      <td>48.133724</td>\n",
       "      <td>1.132766</td>\n",
       "      <td>38.810886</td>\n",
       "      <td>0.378989</td>\n",
       "      <td>3.145401</td>\n",
       "      <td>27.222144</td>\n",
       "      <td>5.078581</td>\n",
       "      <td>1.272449</td>\n",
       "      <td>0.656754</td>\n",
       "      <td>63.057198</td>\n",
       "    </tr>\n",
       "    <tr>\n",
       "      <th>min</th>\n",
       "      <td>0.000000</td>\n",
       "      <td>0.000000</td>\n",
       "      <td>0.000000</td>\n",
       "      <td>0.000000</td>\n",
       "      <td>0.000000</td>\n",
       "      <td>0.000000</td>\n",
       "      <td>0.000000</td>\n",
       "      <td>0.000000</td>\n",
       "      <td>0.000000</td>\n",
       "      <td>0.000000</td>\n",
       "      <td>0.000000</td>\n",
       "      <td>0.000000</td>\n",
       "      <td>0.000000</td>\n",
       "      <td>0.000000</td>\n",
       "    </tr>\n",
       "    <tr>\n",
       "      <th>25%</th>\n",
       "      <td>1.000000</td>\n",
       "      <td>0.000000</td>\n",
       "      <td>0.000000</td>\n",
       "      <td>2.000000</td>\n",
       "      <td>0.000000</td>\n",
       "      <td>0.000000</td>\n",
       "      <td>0.000000</td>\n",
       "      <td>0.000000</td>\n",
       "      <td>0.000000</td>\n",
       "      <td>0.000000</td>\n",
       "      <td>0.000000</td>\n",
       "      <td>0.000000</td>\n",
       "      <td>0.000000</td>\n",
       "      <td>0.000000</td>\n",
       "    </tr>\n",
       "    <tr>\n",
       "      <th>50%</th>\n",
       "      <td>2.000000</td>\n",
       "      <td>0.000000</td>\n",
       "      <td>0.000000</td>\n",
       "      <td>7.000000</td>\n",
       "      <td>1.000000</td>\n",
       "      <td>0.000000</td>\n",
       "      <td>0.000000</td>\n",
       "      <td>0.000000</td>\n",
       "      <td>0.000000</td>\n",
       "      <td>0.000000</td>\n",
       "      <td>0.000000</td>\n",
       "      <td>0.000000</td>\n",
       "      <td>0.000000</td>\n",
       "      <td>0.000000</td>\n",
       "    </tr>\n",
       "    <tr>\n",
       "      <th>75%</th>\n",
       "      <td>5.000000</td>\n",
       "      <td>0.000000</td>\n",
       "      <td>0.000000</td>\n",
       "      <td>24.000000</td>\n",
       "      <td>12.000000</td>\n",
       "      <td>0.000000</td>\n",
       "      <td>0.000000</td>\n",
       "      <td>0.000000</td>\n",
       "      <td>0.000000</td>\n",
       "      <td>2.000000</td>\n",
       "      <td>0.000000</td>\n",
       "      <td>0.000000</td>\n",
       "      <td>0.000000</td>\n",
       "      <td>0.000000</td>\n",
       "    </tr>\n",
       "    <tr>\n",
       "      <th>max</th>\n",
       "      <td>55.000000</td>\n",
       "      <td>41.000000</td>\n",
       "      <td>20.000000</td>\n",
       "      <td>1053.000000</td>\n",
       "      <td>1431.000000</td>\n",
       "      <td>17.000000</td>\n",
       "      <td>500.000000</td>\n",
       "      <td>1.000000</td>\n",
       "      <td>75.000000</td>\n",
       "      <td>673.000000</td>\n",
       "      <td>139.000000</td>\n",
       "      <td>30.000000</td>\n",
       "      <td>27.000000</td>\n",
       "      <td>1785.000000</td>\n",
       "    </tr>\n",
       "  </tbody>\n",
       "</table>\n",
       "</div>"
      ],
      "text/plain": [
       "       ws_users_activated  ws_users_deactivated  ws_users_invited  \\\n",
       "count         2394.000000           2394.000000       2394.000000   \n",
       "mean             4.126566              0.610276          0.129908   \n",
       "std              5.073577              2.173174          0.660699   \n",
       "min              0.000000              0.000000          0.000000   \n",
       "25%              1.000000              0.000000          0.000000   \n",
       "50%              2.000000              0.000000          0.000000   \n",
       "75%              5.000000              0.000000          0.000000   \n",
       "max             55.000000             41.000000         20.000000   \n",
       "\n",
       "       action_create_project  action_export_report  action_api_and_webhooks  \\\n",
       "count            2394.000000           2394.000000              2394.000000   \n",
       "mean               22.147870             15.743108                 0.270677   \n",
       "std                51.969452             48.133724                 1.132766   \n",
       "min                 0.000000              0.000000                 0.000000   \n",
       "25%                 2.000000              0.000000                 0.000000   \n",
       "50%                 7.000000              1.000000                 0.000000   \n",
       "75%                24.000000             12.000000                 0.000000   \n",
       "max              1053.000000           1431.000000                17.000000   \n",
       "\n",
       "       action_time_entries_via_tracker  action_start_trial  action_import_csv  \\\n",
       "count                      2394.000000         2394.000000        2394.000000   \n",
       "mean                          9.720969            0.173768           0.425647   \n",
       "std                          38.810886            0.378989           3.145401   \n",
       "min                           0.000000            0.000000           0.000000   \n",
       "25%                           0.000000            0.000000           0.000000   \n",
       "50%                           0.000000            0.000000           0.000000   \n",
       "75%                           0.000000            0.000000           0.000000   \n",
       "max                         500.000000            1.000000          75.000000   \n",
       "\n",
       "       action_create_invoice  action_lock_entries  action_add_targets  \\\n",
       "count            2394.000000          2394.000000         2394.000000   \n",
       "mean                6.332080             1.263158            0.254804   \n",
       "std                27.222144             5.078581            1.272449   \n",
       "min                 0.000000             0.000000            0.000000   \n",
       "25%                 0.000000             0.000000            0.000000   \n",
       "50%                 0.000000             0.000000            0.000000   \n",
       "75%                 2.000000             0.000000            0.000000   \n",
       "max               673.000000           139.000000           30.000000   \n",
       "\n",
       "       action_connect_quickbooks  action_create_expense  \n",
       "count                2394.000000            2394.000000  \n",
       "mean                    0.076023               8.356307  \n",
       "std                     0.656754              63.057198  \n",
       "min                     0.000000               0.000000  \n",
       "25%                     0.000000               0.000000  \n",
       "50%                     0.000000               0.000000  \n",
       "75%                     0.000000               0.000000  \n",
       "max                    27.000000            1785.000000  "
      ]
     },
     "execution_count": 22,
     "metadata": {},
     "output_type": "execute_result"
    }
   ],
   "source": [
    "data_encoded_out.iloc[:, 0:14].describe()"
   ]
  },
  {
   "cell_type": "markdown",
   "metadata": {},
   "source": [
    "### Select features"
   ]
  },
  {
   "cell_type": "markdown",
   "metadata": {},
   "source": [
    "23 features are selected. We will use these features to predict `churned` variable."
   ]
  },
  {
   "cell_type": "code",
   "execution_count": 23,
   "metadata": {},
   "outputs": [],
   "source": [
    "y = data_encoded_out['churn']\n",
    "X = data_encoded_out[['ws_users_activated', 'ws_users_deactivated', 'action_create_project', 'action_export_report', 'action_api_and_webhooks', 'action_import_csv','action_create_invoice','action_time_entries_via_tracker','action_create_invoice', 'action_lock_entries', 'action_add_targets', 'action_create_expense', 'action_project_budget', 'value_kiosk_seats','value_regular_seats', 'value_days_to_purchase', 'value_number_of_active_months', 'value_transactions_number',\n",
    "'region-na', 'region-eu','region-row','pro', 'action_start_trial']]"
   ]
  },
  {
   "cell_type": "markdown",
   "metadata": {},
   "source": [
    "We use a slightly larger test dataset because of the imbalance in the target variable. We will use 25% of the data for testing."
   ]
  },
  {
   "cell_type": "code",
   "execution_count": 24,
   "metadata": {},
   "outputs": [],
   "source": [
    "X_train, X_test, y_train, y_test = train_test_split(X, y, test_size=0.25, random_state=42)"
   ]
  },
  {
   "cell_type": "markdown",
   "metadata": {},
   "source": [
    "### Scale features"
   ]
  },
  {
   "cell_type": "markdown",
   "metadata": {},
   "source": [
    "We use standard scaler to scale the numerical features in the training and testing dataset. They are scaled to have mean 0 and standard deviation 1."
   ]
  },
  {
   "cell_type": "code",
   "execution_count": 25,
   "metadata": {},
   "outputs": [],
   "source": [
    "scaler = StandardScaler()\n",
    "X_train_scaled = scaler.fit_transform(X_train)\n",
    "X_test_scaled = scaler.transform(X_test)\n"
   ]
  },
  {
   "cell_type": "markdown",
   "metadata": {},
   "source": [
    "### SMOTE"
   ]
  },
  {
   "cell_type": "markdown",
   "metadata": {},
   "source": [
    "After scaling features, we run SMOTE to generate minority class samples in the training dataset. \n",
    "\n",
    "We make the training set more balanced. SMOTE uses 20 k-nearest neighbors to generate new samples. This provides more diversity of the training data so we don't overfit to the noise produced by small number of churned cases present in the data."
   ]
  },
  {
   "cell_type": "markdown",
   "metadata": {},
   "source": [
    "We only run SMOTE on the training data and leave the test data as it is. This is more realistic scenario and we assess the ability of the model to generalize outside of the training data."
   ]
  },
  {
   "cell_type": "code",
   "execution_count": 26,
   "metadata": {},
   "outputs": [],
   "source": [
    "smote = SMOTE(random_state=100, k_neighbors=20)\n",
    "X_train_sm, y_train_sm = smote.fit_resample(X_train_scaled, y_train)"
   ]
  },
  {
   "cell_type": "markdown",
   "metadata": {},
   "source": [
    "### Run model"
   ]
  },
  {
   "cell_type": "markdown",
   "metadata": {},
   "source": [
    "We finally run and fit the model."
   ]
  },
  {
   "cell_type": "code",
   "execution_count": 27,
   "metadata": {},
   "outputs": [],
   "source": [
    "model = LogisticRegression(max_iter=1000)"
   ]
  },
  {
   "cell_type": "code",
   "execution_count": 28,
   "metadata": {},
   "outputs": [
    {
     "data": {
      "text/html": [
       "<style>#sk-container-id-1 {\n",
       "  /* Definition of color scheme common for light and dark mode */\n",
       "  --sklearn-color-text: black;\n",
       "  --sklearn-color-line: gray;\n",
       "  /* Definition of color scheme for unfitted estimators */\n",
       "  --sklearn-color-unfitted-level-0: #fff5e6;\n",
       "  --sklearn-color-unfitted-level-1: #f6e4d2;\n",
       "  --sklearn-color-unfitted-level-2: #ffe0b3;\n",
       "  --sklearn-color-unfitted-level-3: chocolate;\n",
       "  /* Definition of color scheme for fitted estimators */\n",
       "  --sklearn-color-fitted-level-0: #f0f8ff;\n",
       "  --sklearn-color-fitted-level-1: #d4ebff;\n",
       "  --sklearn-color-fitted-level-2: #b3dbfd;\n",
       "  --sklearn-color-fitted-level-3: cornflowerblue;\n",
       "\n",
       "  /* Specific color for light theme */\n",
       "  --sklearn-color-text-on-default-background: var(--sg-text-color, var(--theme-code-foreground, var(--jp-content-font-color1, black)));\n",
       "  --sklearn-color-background: var(--sg-background-color, var(--theme-background, var(--jp-layout-color0, white)));\n",
       "  --sklearn-color-border-box: var(--sg-text-color, var(--theme-code-foreground, var(--jp-content-font-color1, black)));\n",
       "  --sklearn-color-icon: #696969;\n",
       "\n",
       "  @media (prefers-color-scheme: dark) {\n",
       "    /* Redefinition of color scheme for dark theme */\n",
       "    --sklearn-color-text-on-default-background: var(--sg-text-color, var(--theme-code-foreground, var(--jp-content-font-color1, white)));\n",
       "    --sklearn-color-background: var(--sg-background-color, var(--theme-background, var(--jp-layout-color0, #111)));\n",
       "    --sklearn-color-border-box: var(--sg-text-color, var(--theme-code-foreground, var(--jp-content-font-color1, white)));\n",
       "    --sklearn-color-icon: #878787;\n",
       "  }\n",
       "}\n",
       "\n",
       "#sk-container-id-1 {\n",
       "  color: var(--sklearn-color-text);\n",
       "}\n",
       "\n",
       "#sk-container-id-1 pre {\n",
       "  padding: 0;\n",
       "}\n",
       "\n",
       "#sk-container-id-1 input.sk-hidden--visually {\n",
       "  border: 0;\n",
       "  clip: rect(1px 1px 1px 1px);\n",
       "  clip: rect(1px, 1px, 1px, 1px);\n",
       "  height: 1px;\n",
       "  margin: -1px;\n",
       "  overflow: hidden;\n",
       "  padding: 0;\n",
       "  position: absolute;\n",
       "  width: 1px;\n",
       "}\n",
       "\n",
       "#sk-container-id-1 div.sk-dashed-wrapped {\n",
       "  border: 1px dashed var(--sklearn-color-line);\n",
       "  margin: 0 0.4em 0.5em 0.4em;\n",
       "  box-sizing: border-box;\n",
       "  padding-bottom: 0.4em;\n",
       "  background-color: var(--sklearn-color-background);\n",
       "}\n",
       "\n",
       "#sk-container-id-1 div.sk-container {\n",
       "  /* jupyter's `normalize.less` sets `[hidden] { display: none; }`\n",
       "     but bootstrap.min.css set `[hidden] { display: none !important; }`\n",
       "     so we also need the `!important` here to be able to override the\n",
       "     default hidden behavior on the sphinx rendered scikit-learn.org.\n",
       "     See: https://github.com/scikit-learn/scikit-learn/issues/21755 */\n",
       "  display: inline-block !important;\n",
       "  position: relative;\n",
       "}\n",
       "\n",
       "#sk-container-id-1 div.sk-text-repr-fallback {\n",
       "  display: none;\n",
       "}\n",
       "\n",
       "div.sk-parallel-item,\n",
       "div.sk-serial,\n",
       "div.sk-item {\n",
       "  /* draw centered vertical line to link estimators */\n",
       "  background-image: linear-gradient(var(--sklearn-color-text-on-default-background), var(--sklearn-color-text-on-default-background));\n",
       "  background-size: 2px 100%;\n",
       "  background-repeat: no-repeat;\n",
       "  background-position: center center;\n",
       "}\n",
       "\n",
       "/* Parallel-specific style estimator block */\n",
       "\n",
       "#sk-container-id-1 div.sk-parallel-item::after {\n",
       "  content: \"\";\n",
       "  width: 100%;\n",
       "  border-bottom: 2px solid var(--sklearn-color-text-on-default-background);\n",
       "  flex-grow: 1;\n",
       "}\n",
       "\n",
       "#sk-container-id-1 div.sk-parallel {\n",
       "  display: flex;\n",
       "  align-items: stretch;\n",
       "  justify-content: center;\n",
       "  background-color: var(--sklearn-color-background);\n",
       "  position: relative;\n",
       "}\n",
       "\n",
       "#sk-container-id-1 div.sk-parallel-item {\n",
       "  display: flex;\n",
       "  flex-direction: column;\n",
       "}\n",
       "\n",
       "#sk-container-id-1 div.sk-parallel-item:first-child::after {\n",
       "  align-self: flex-end;\n",
       "  width: 50%;\n",
       "}\n",
       "\n",
       "#sk-container-id-1 div.sk-parallel-item:last-child::after {\n",
       "  align-self: flex-start;\n",
       "  width: 50%;\n",
       "}\n",
       "\n",
       "#sk-container-id-1 div.sk-parallel-item:only-child::after {\n",
       "  width: 0;\n",
       "}\n",
       "\n",
       "/* Serial-specific style estimator block */\n",
       "\n",
       "#sk-container-id-1 div.sk-serial {\n",
       "  display: flex;\n",
       "  flex-direction: column;\n",
       "  align-items: center;\n",
       "  background-color: var(--sklearn-color-background);\n",
       "  padding-right: 1em;\n",
       "  padding-left: 1em;\n",
       "}\n",
       "\n",
       "\n",
       "/* Toggleable style: style used for estimator/Pipeline/ColumnTransformer box that is\n",
       "clickable and can be expanded/collapsed.\n",
       "- Pipeline and ColumnTransformer use this feature and define the default style\n",
       "- Estimators will overwrite some part of the style using the `sk-estimator` class\n",
       "*/\n",
       "\n",
       "/* Pipeline and ColumnTransformer style (default) */\n",
       "\n",
       "#sk-container-id-1 div.sk-toggleable {\n",
       "  /* Default theme specific background. It is overwritten whether we have a\n",
       "  specific estimator or a Pipeline/ColumnTransformer */\n",
       "  background-color: var(--sklearn-color-background);\n",
       "}\n",
       "\n",
       "/* Toggleable label */\n",
       "#sk-container-id-1 label.sk-toggleable__label {\n",
       "  cursor: pointer;\n",
       "  display: block;\n",
       "  width: 100%;\n",
       "  margin-bottom: 0;\n",
       "  padding: 0.5em;\n",
       "  box-sizing: border-box;\n",
       "  text-align: center;\n",
       "}\n",
       "\n",
       "#sk-container-id-1 label.sk-toggleable__label-arrow:before {\n",
       "  /* Arrow on the left of the label */\n",
       "  content: \"▸\";\n",
       "  float: left;\n",
       "  margin-right: 0.25em;\n",
       "  color: var(--sklearn-color-icon);\n",
       "}\n",
       "\n",
       "#sk-container-id-1 label.sk-toggleable__label-arrow:hover:before {\n",
       "  color: var(--sklearn-color-text);\n",
       "}\n",
       "\n",
       "/* Toggleable content - dropdown */\n",
       "\n",
       "#sk-container-id-1 div.sk-toggleable__content {\n",
       "  max-height: 0;\n",
       "  max-width: 0;\n",
       "  overflow: hidden;\n",
       "  text-align: left;\n",
       "  /* unfitted */\n",
       "  background-color: var(--sklearn-color-unfitted-level-0);\n",
       "}\n",
       "\n",
       "#sk-container-id-1 div.sk-toggleable__content.fitted {\n",
       "  /* fitted */\n",
       "  background-color: var(--sklearn-color-fitted-level-0);\n",
       "}\n",
       "\n",
       "#sk-container-id-1 div.sk-toggleable__content pre {\n",
       "  margin: 0.2em;\n",
       "  border-radius: 0.25em;\n",
       "  color: var(--sklearn-color-text);\n",
       "  /* unfitted */\n",
       "  background-color: var(--sklearn-color-unfitted-level-0);\n",
       "}\n",
       "\n",
       "#sk-container-id-1 div.sk-toggleable__content.fitted pre {\n",
       "  /* unfitted */\n",
       "  background-color: var(--sklearn-color-fitted-level-0);\n",
       "}\n",
       "\n",
       "#sk-container-id-1 input.sk-toggleable__control:checked~div.sk-toggleable__content {\n",
       "  /* Expand drop-down */\n",
       "  max-height: 200px;\n",
       "  max-width: 100%;\n",
       "  overflow: auto;\n",
       "}\n",
       "\n",
       "#sk-container-id-1 input.sk-toggleable__control:checked~label.sk-toggleable__label-arrow:before {\n",
       "  content: \"▾\";\n",
       "}\n",
       "\n",
       "/* Pipeline/ColumnTransformer-specific style */\n",
       "\n",
       "#sk-container-id-1 div.sk-label input.sk-toggleable__control:checked~label.sk-toggleable__label {\n",
       "  color: var(--sklearn-color-text);\n",
       "  background-color: var(--sklearn-color-unfitted-level-2);\n",
       "}\n",
       "\n",
       "#sk-container-id-1 div.sk-label.fitted input.sk-toggleable__control:checked~label.sk-toggleable__label {\n",
       "  background-color: var(--sklearn-color-fitted-level-2);\n",
       "}\n",
       "\n",
       "/* Estimator-specific style */\n",
       "\n",
       "/* Colorize estimator box */\n",
       "#sk-container-id-1 div.sk-estimator input.sk-toggleable__control:checked~label.sk-toggleable__label {\n",
       "  /* unfitted */\n",
       "  background-color: var(--sklearn-color-unfitted-level-2);\n",
       "}\n",
       "\n",
       "#sk-container-id-1 div.sk-estimator.fitted input.sk-toggleable__control:checked~label.sk-toggleable__label {\n",
       "  /* fitted */\n",
       "  background-color: var(--sklearn-color-fitted-level-2);\n",
       "}\n",
       "\n",
       "#sk-container-id-1 div.sk-label label.sk-toggleable__label,\n",
       "#sk-container-id-1 div.sk-label label {\n",
       "  /* The background is the default theme color */\n",
       "  color: var(--sklearn-color-text-on-default-background);\n",
       "}\n",
       "\n",
       "/* On hover, darken the color of the background */\n",
       "#sk-container-id-1 div.sk-label:hover label.sk-toggleable__label {\n",
       "  color: var(--sklearn-color-text);\n",
       "  background-color: var(--sklearn-color-unfitted-level-2);\n",
       "}\n",
       "\n",
       "/* Label box, darken color on hover, fitted */\n",
       "#sk-container-id-1 div.sk-label.fitted:hover label.sk-toggleable__label.fitted {\n",
       "  color: var(--sklearn-color-text);\n",
       "  background-color: var(--sklearn-color-fitted-level-2);\n",
       "}\n",
       "\n",
       "/* Estimator label */\n",
       "\n",
       "#sk-container-id-1 div.sk-label label {\n",
       "  font-family: monospace;\n",
       "  font-weight: bold;\n",
       "  display: inline-block;\n",
       "  line-height: 1.2em;\n",
       "}\n",
       "\n",
       "#sk-container-id-1 div.sk-label-container {\n",
       "  text-align: center;\n",
       "}\n",
       "\n",
       "/* Estimator-specific */\n",
       "#sk-container-id-1 div.sk-estimator {\n",
       "  font-family: monospace;\n",
       "  border: 1px dotted var(--sklearn-color-border-box);\n",
       "  border-radius: 0.25em;\n",
       "  box-sizing: border-box;\n",
       "  margin-bottom: 0.5em;\n",
       "  /* unfitted */\n",
       "  background-color: var(--sklearn-color-unfitted-level-0);\n",
       "}\n",
       "\n",
       "#sk-container-id-1 div.sk-estimator.fitted {\n",
       "  /* fitted */\n",
       "  background-color: var(--sklearn-color-fitted-level-0);\n",
       "}\n",
       "\n",
       "/* on hover */\n",
       "#sk-container-id-1 div.sk-estimator:hover {\n",
       "  /* unfitted */\n",
       "  background-color: var(--sklearn-color-unfitted-level-2);\n",
       "}\n",
       "\n",
       "#sk-container-id-1 div.sk-estimator.fitted:hover {\n",
       "  /* fitted */\n",
       "  background-color: var(--sklearn-color-fitted-level-2);\n",
       "}\n",
       "\n",
       "/* Specification for estimator info (e.g. \"i\" and \"?\") */\n",
       "\n",
       "/* Common style for \"i\" and \"?\" */\n",
       "\n",
       ".sk-estimator-doc-link,\n",
       "a:link.sk-estimator-doc-link,\n",
       "a:visited.sk-estimator-doc-link {\n",
       "  float: right;\n",
       "  font-size: smaller;\n",
       "  line-height: 1em;\n",
       "  font-family: monospace;\n",
       "  background-color: var(--sklearn-color-background);\n",
       "  border-radius: 1em;\n",
       "  height: 1em;\n",
       "  width: 1em;\n",
       "  text-decoration: none !important;\n",
       "  margin-left: 1ex;\n",
       "  /* unfitted */\n",
       "  border: var(--sklearn-color-unfitted-level-1) 1pt solid;\n",
       "  color: var(--sklearn-color-unfitted-level-1);\n",
       "}\n",
       "\n",
       ".sk-estimator-doc-link.fitted,\n",
       "a:link.sk-estimator-doc-link.fitted,\n",
       "a:visited.sk-estimator-doc-link.fitted {\n",
       "  /* fitted */\n",
       "  border: var(--sklearn-color-fitted-level-1) 1pt solid;\n",
       "  color: var(--sklearn-color-fitted-level-1);\n",
       "}\n",
       "\n",
       "/* On hover */\n",
       "div.sk-estimator:hover .sk-estimator-doc-link:hover,\n",
       ".sk-estimator-doc-link:hover,\n",
       "div.sk-label-container:hover .sk-estimator-doc-link:hover,\n",
       ".sk-estimator-doc-link:hover {\n",
       "  /* unfitted */\n",
       "  background-color: var(--sklearn-color-unfitted-level-3);\n",
       "  color: var(--sklearn-color-background);\n",
       "  text-decoration: none;\n",
       "}\n",
       "\n",
       "div.sk-estimator.fitted:hover .sk-estimator-doc-link.fitted:hover,\n",
       ".sk-estimator-doc-link.fitted:hover,\n",
       "div.sk-label-container:hover .sk-estimator-doc-link.fitted:hover,\n",
       ".sk-estimator-doc-link.fitted:hover {\n",
       "  /* fitted */\n",
       "  background-color: var(--sklearn-color-fitted-level-3);\n",
       "  color: var(--sklearn-color-background);\n",
       "  text-decoration: none;\n",
       "}\n",
       "\n",
       "/* Span, style for the box shown on hovering the info icon */\n",
       ".sk-estimator-doc-link span {\n",
       "  display: none;\n",
       "  z-index: 9999;\n",
       "  position: relative;\n",
       "  font-weight: normal;\n",
       "  right: .2ex;\n",
       "  padding: .5ex;\n",
       "  margin: .5ex;\n",
       "  width: min-content;\n",
       "  min-width: 20ex;\n",
       "  max-width: 50ex;\n",
       "  color: var(--sklearn-color-text);\n",
       "  box-shadow: 2pt 2pt 4pt #999;\n",
       "  /* unfitted */\n",
       "  background: var(--sklearn-color-unfitted-level-0);\n",
       "  border: .5pt solid var(--sklearn-color-unfitted-level-3);\n",
       "}\n",
       "\n",
       ".sk-estimator-doc-link.fitted span {\n",
       "  /* fitted */\n",
       "  background: var(--sklearn-color-fitted-level-0);\n",
       "  border: var(--sklearn-color-fitted-level-3);\n",
       "}\n",
       "\n",
       ".sk-estimator-doc-link:hover span {\n",
       "  display: block;\n",
       "}\n",
       "\n",
       "/* \"?\"-specific style due to the `<a>` HTML tag */\n",
       "\n",
       "#sk-container-id-1 a.estimator_doc_link {\n",
       "  float: right;\n",
       "  font-size: 1rem;\n",
       "  line-height: 1em;\n",
       "  font-family: monospace;\n",
       "  background-color: var(--sklearn-color-background);\n",
       "  border-radius: 1rem;\n",
       "  height: 1rem;\n",
       "  width: 1rem;\n",
       "  text-decoration: none;\n",
       "  /* unfitted */\n",
       "  color: var(--sklearn-color-unfitted-level-1);\n",
       "  border: var(--sklearn-color-unfitted-level-1) 1pt solid;\n",
       "}\n",
       "\n",
       "#sk-container-id-1 a.estimator_doc_link.fitted {\n",
       "  /* fitted */\n",
       "  border: var(--sklearn-color-fitted-level-1) 1pt solid;\n",
       "  color: var(--sklearn-color-fitted-level-1);\n",
       "}\n",
       "\n",
       "/* On hover */\n",
       "#sk-container-id-1 a.estimator_doc_link:hover {\n",
       "  /* unfitted */\n",
       "  background-color: var(--sklearn-color-unfitted-level-3);\n",
       "  color: var(--sklearn-color-background);\n",
       "  text-decoration: none;\n",
       "}\n",
       "\n",
       "#sk-container-id-1 a.estimator_doc_link.fitted:hover {\n",
       "  /* fitted */\n",
       "  background-color: var(--sklearn-color-fitted-level-3);\n",
       "}\n",
       "</style><div id=\"sk-container-id-1\" class=\"sk-top-container\"><div class=\"sk-text-repr-fallback\"><pre>LogisticRegression(max_iter=1000)</pre><b>In a Jupyter environment, please rerun this cell to show the HTML representation or trust the notebook. <br />On GitHub, the HTML representation is unable to render, please try loading this page with nbviewer.org.</b></div><div class=\"sk-container\" hidden><div class=\"sk-item\"><div class=\"sk-estimator fitted sk-toggleable\"><input class=\"sk-toggleable__control sk-hidden--visually\" id=\"sk-estimator-id-1\" type=\"checkbox\" checked><label for=\"sk-estimator-id-1\" class=\"sk-toggleable__label fitted sk-toggleable__label-arrow fitted\">&nbsp;&nbsp;LogisticRegression<a class=\"sk-estimator-doc-link fitted\" rel=\"noreferrer\" target=\"_blank\" href=\"https://scikit-learn.org/1.4/modules/generated/sklearn.linear_model.LogisticRegression.html\">?<span>Documentation for LogisticRegression</span></a><span class=\"sk-estimator-doc-link fitted\">i<span>Fitted</span></span></label><div class=\"sk-toggleable__content fitted\"><pre>LogisticRegression(max_iter=1000)</pre></div> </div></div></div></div>"
      ],
      "text/plain": [
       "LogisticRegression(max_iter=1000)"
      ]
     },
     "execution_count": 28,
     "metadata": {},
     "output_type": "execute_result"
    }
   ],
   "source": [
    "model.fit(X_train_sm, y_train_sm)"
   ]
  },
  {
   "cell_type": "markdown",
   "metadata": {},
   "source": [
    "### Model performance"
   ]
  },
  {
   "cell_type": "code",
   "execution_count": 29,
   "metadata": {},
   "outputs": [
    {
     "name": "stdout",
     "output_type": "stream",
     "text": [
      "Accuracy:  0.7195325542570952\n",
      "Precision:  0.5270758122743683\n",
      "F1 Score:  0.6347826086956522\n"
     ]
    }
   ],
   "source": [
    "# Predict the test set results\n",
    "y_pred = model.predict(X_test_scaled)\n",
    "\n",
    "# Get the accuracy\n",
    "accuracy = accuracy_score(y_test, y_pred)\n",
    "print(\"Accuracy: \", accuracy)\n",
    "\n",
    "# Get the precision\n",
    "precision = precision_score(y_test, y_pred)\n",
    "print(\"Precision: \", precision)\n",
    "\n",
    "# Get the F1 score\n",
    "f1 = f1_score(y_test, y_pred)\n",
    "print(\"F1 Score: \", f1)\n"
   ]
  },
  {
   "cell_type": "markdown",
   "metadata": {},
   "source": [
    "Model achieves 0.72 accuracy, 0.52 precision and F1 score of 0.63.\n",
    "\n",
    "This is moderate performance for a disbalanced dataset. We can see that the model is better at predicting the majority class (active accounts) than the minority class (churned accounts)."
   ]
  },
  {
   "cell_type": "code",
   "execution_count": 30,
   "metadata": {},
   "outputs": [
    {
     "name": "stdout",
     "output_type": "stream",
     "text": [
      "Cross-validated scores: [0.71666667 0.7125     0.69583333 0.73333333 0.74058577 0.77824268\n",
      " 0.84518828 0.79916318 0.64016736 0.49790795]\n",
      "Average score: 0.7159588563458856\n"
     ]
    }
   ],
   "source": [
    "from sklearn.model_selection import cross_val_score\n",
    "\n",
    "# Assuming 'model' is your logistic regression model\n",
    "scores = cross_val_score(model, X, y, cv=10)\n",
    "\n",
    "print(\"Cross-validated scores:\", scores)\n",
    "print(\"Average score:\", scores.mean())"
   ]
  },
  {
   "cell_type": "markdown",
   "metadata": {},
   "source": [
    "Cross-validation mean score is 0.72, suggesting moderate performance of the model."
   ]
  },
  {
   "cell_type": "code",
   "execution_count": 31,
   "metadata": {},
   "outputs": [
    {
     "data": {
      "image/png": "[encoded data removed]",
      "text/plain": [
       "<Figure size 640x480 with 2 Axes>"
      ]
     },
     "metadata": {},
     "output_type": "display_data"
    }
   ],
   "source": [
    "conf_mat = confusion_matrix(y_test, y_pred)\n",
    "\n",
    "\n",
    "disp = ConfusionMatrixDisplay(confusion_matrix=conf_mat) \n",
    "disp.plot() \n",
    "plt.show()\n"
   ]
  },
  {
   "cell_type": "markdown",
   "metadata": {},
   "source": [
    "Confusion matrix shows that the model is better at predicting the majority class (active accounts) than the minority class (churned accounts).\n",
    "\n",
    "Misclassification happens mostly when active accounts are predicted as churned accounts so in this case model errs on the side of caution."
   ]
  },
  {
   "cell_type": "code",
   "execution_count": 32,
   "metadata": {},
   "outputs": [
    {
     "data": {
      "image/png": "[encoded data removed]",
      "text/plain": [
       "<Figure size 640x480 with 1 Axes>"
      ]
     },
     "metadata": {},
     "output_type": "display_data"
    }
   ],
   "source": [
    "y_pred_proba = model.predict_proba(X_test_scaled)[:,1]\n",
    "fpr, tpr, _ = roc_curve(y_test,  y_pred_proba)\n",
    "auc = roc_auc_score(y_test, y_pred_proba)\n",
    "\n",
    "# plot using RocCurveDisplay\n",
    "\n",
    "disp = RocCurveDisplay(fpr=fpr, tpr=tpr, roc_auc=auc)\n",
    "disp.plot()\n",
    "plt.show()"
   ]
  },
  {
   "cell_type": "markdown",
   "metadata": {},
   "source": [
    "Area under ROC curve is 0.79, meaning that in 79% of cases the model will correctly assign higher probability of churn to churned accounts than to active accounts.\n",
    "\n",
    "Given the imbalance in the dataset, this points toward a balanced classification model."
   ]
  },
  {
   "cell_type": "markdown",
   "metadata": {},
   "source": [
    "### Feature importance"
   ]
  },
  {
   "cell_type": "code",
   "execution_count": 39,
   "metadata": {},
   "outputs": [
    {
     "data": {
      "image/png": "[encoded data removed]",
      "text/plain": [
       "<Figure size 500x500 with 1 Axes>"
      ]
     },
     "metadata": {},
     "output_type": "display_data"
    }
   ],
   "source": [
    "feature_importance = model.coef_[0]\n",
    "feature_importance = 100.0 * (feature_importance / feature_importance.max())\n",
    "sorted_idx = np.argsort(feature_importance)\n",
    "pos = np.arange(sorted_idx.shape[0]) + .5\n",
    "\n",
    "featfig = plt.figure(figsize=(5, 5))\n",
    "featax = featfig.add_subplot(1, 1, 1)\n",
    "featax.barh(pos, feature_importance[sorted_idx], align='center')\n",
    "featax.set_yticks(pos)\n",
    "featax.set_yticklabels(np.array(X.columns)[sorted_idx], fontsize=8)\n",
    "featax.set_xlabel('Relative Feature Importance')\n",
    "\n",
    "plt.tight_layout()\n",
    "plt.show()\n"
   ]
  },
  {
   "cell_type": "markdown",
   "metadata": {},
   "source": [
    "Since the model is better at predicting the majority class (active accounts) than the minority class (churned accounts), this is also reflected in the feature importance ranking.\n",
    "\n",
    "### Take-aways\n",
    "\n",
    "For predicting active accounts, the most important features are volume of user activity and the utility Clockify provides: number of activated users, time entries, created expenses, locked entried, export reports, etc. Churn is also lower for EU users compared to ROW and NA users.\n",
    "\n",
    "For predicting churn, there are several important predictors with interesting take-aways.\n",
    "\n",
    "1. Number of days taken to pay for first subscription. The longer it takes the higher probability of churn becomes. These are probably users who are not sure whether Clockify provides enough value for their organization.\n",
    "2. Paying for Pro plan. Users who bought Pro plan have higher probabilityu of churn.Probably users who are either not finding enough value in a Pro plan or they can't afford it.\n",
    "3. Users from ROW. Users from ROW have higher probability of churn. Probably because of lower purchasing power and/or language barrier."
   ]
  },
  {
   "cell_type": "markdown",
   "metadata": {},
   "source": [
    "Since variables related to Adding targets, Kiosk mode and CSV are also related to higher probability of churn, it's possible that some of these features may have bugs or somehow detrimental effect on user experience."
   ]
  },
  {
   "cell_type": "markdown",
   "metadata": {},
   "source": [
    "To examine general importance of features for classification perfomance, we ran a permputation importance test.\n",
    "\n"
   ]
  },
  {
   "cell_type": "code",
   "execution_count": 38,
   "metadata": {},
   "outputs": [
    {
     "data": {
      "image/png": "[encoded data removed]",
      "text/plain": [
       "<Figure size 1000x700 with 1 Axes>"
      ]
     },
     "metadata": {},
     "output_type": "display_data"
    }
   ],
   "source": [
    "## plot feature_importance using permutation importance\n",
    "\n",
    "from sklearn.inspection import permutation_importance\n",
    "\n",
    "result = permutation_importance(model, X_test_scaled, y_test, n_repeats=10,\n",
    "                                random_state=42, n_jobs=2)\n",
    "sorted_idx = result.importances_mean.argsort()\n",
    "\n",
    "fig, ax = plt.subplots(figsize=(10, 7))\n",
    "ax.boxplot(result.importances[sorted_idx].T,\n",
    "           vert=False, labels=np.array(X.columns)[sorted_idx])\n",
    "ax.set_title(\"Permutation Importances (test set)\")\n",
    "fig.tight_layout()\n",
    "plt.show()\n"
   ]
  },
  {
   "cell_type": "markdown",
   "metadata": {},
   "source": [
    "This tells us that in terms of pure classification performance, number of active months and number of activated users are the most useful."
   ]
  },
  {
   "cell_type": "markdown",
   "metadata": {},
   "source": [
    "## Conclusion\n",
    "\n",
    "We built a classification model to predict churned accounts. The model achieves 0.72 accuracy, 0.52 precision and F1 score of 0.63. Cross-validation mean score is 0.72 and AUC is 0.79. \n",
    "\n",
    "Overall, the model performs moderately well. It's better at predicting the majority class (active accounts) than the minority class (churned accounts). This is also reflected in the feature importance ranking.\n",
    "\n",
    "Model perfomance could be artificially increased by running SMOTE on the entire dataset, but this would not be a realistic scenario. Also, missing data could be imputed, but we would loose the distinction between accounts on the PRO plan and accounts on the Basic/Standard plan."
   ]
  }
 ],
 "metadata": {
  "kernelspec": {
   "display_name": "Python 3 (ipykernel)",
   "language": "python",
   "name": "python3"
  },
  "language_info": {
   "codemirror_mode": {
    "name": "ipython",
    "version": 3
   },
   "file_extension": ".py",
   "mimetype": "text/x-python",
   "name": "python",
   "nbconvert_exporter": "python",
   "pygments_lexer": "ipython3",
   "version": "3.11.4"
  },
  "latex_envs": {
   "LaTeX_envs_menu_present": true,
   "autoclose": true,
   "autocomplete": true,
   "bibliofile": "",
   "cite_by": "apalike",
   "current_citInitial": 1,
   "eqLabelWithNumbers": true,
   "eqNumInitial": 1,
   "hotkeys": {
    "equation": "Ctrl-E",
    "itemize": "Ctrl-I"
   },
   "labels_anchors": false,
   "latex_user_defs": false,
   "report_style_numbering": false,
   "user_envs_cfg": false
  }
 },
 "nbformat": 4,
 "nbformat_minor": 2
}
